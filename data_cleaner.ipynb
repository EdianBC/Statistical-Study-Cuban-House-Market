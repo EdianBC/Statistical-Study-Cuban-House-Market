{
 "cells": [
  {
   "cell_type": "code",
   "execution_count": 4,
   "metadata": {},
   "outputs": [
    {
     "name": "stdout",
     "output_type": "stream",
     "text": [
      "El archivo housing_clean.csv se ha creado exitosamente.\n"
     ]
    }
   ],
   "source": [
    "import pandas as pd\n",
    "\n",
    "# Cargar el archivo CSV\n",
    "df = pd.read_csv('Housing.csv')\n",
    "\n",
    "# Eliminar las columnas no deseadas\n",
    "columns_to_drop = ['id', 'date', 'zipcode', 'lat', 'long']\n",
    "df_clean = df.drop(columns=columns_to_drop)\n",
    "\n",
    "# Calcular años desde la renovación o desde que se construyó si no se ha renovado\n",
    "current_year = 2015  # Año actual del dataset\n",
    "df_clean['yr_renovated'] = current_year - df_clean['yr_renovated'].where(df_clean['yr_renovated'] != 0, df_clean['yr_built'])\n",
    "\n",
    "# Guardar el DataFrame limpio en un nuevo archivo CSV\n",
    "df_clean.to_csv('housing_clean.csv', index=False)\n",
    "\n",
    "print(\"El archivo housing_clean.csv se ha creado exitosamente.\")\n"
   ]
  }
 ],
 "metadata": {
  "kernelspec": {
   "display_name": "base",
   "language": "python",
   "name": "python3"
  },
  "language_info": {
   "codemirror_mode": {
    "name": "ipython",
    "version": 3
   },
   "file_extension": ".py",
   "mimetype": "text/x-python",
   "name": "python",
   "nbconvert_exporter": "python",
   "pygments_lexer": "ipython3",
   "version": "3.11.7"
  }
 },
 "nbformat": 4,
 "nbformat_minor": 2
}
